{
 "cells": [
  {
   "cell_type": "markdown",
   "metadata": {
    "collapsed": true,
    "deletable": true,
    "editable": true
   },
   "source": [
    "# Image Classification\n",
    "In this project, you'll classify images from the [CIFAR-10 dataset](https://www.cs.toronto.edu/~kriz/cifar.html).  The dataset consists of airplanes, dogs, cats, and other objects. You'll preprocess the images, then train a convolutional neural network on all the samples. The images need to be normalized and the labels need to be one-hot encoded.  You'll get to apply what you learned and build a convolutional, max pooling, dropout, and fully connected layers.  At the end, you'll get to see your neural network's predictions on the sample images.\n",
    "## Get the Data\n",
    "Run the following cell to download the [CIFAR-10 dataset for python](https://www.cs.toronto.edu/~kriz/cifar-10-python.tar.gz)."
   ]
  },
  {
   "cell_type": "code",
   "execution_count": 1,
   "metadata": {
    "collapsed": false,
    "deletable": true,
    "editable": true
   },
   "outputs": [
    {
     "name": "stdout",
     "output_type": "stream",
     "text": [
      "All files found!\n"
     ]
    }
   ],
   "source": [
    "\"\"\"\n",
    "DON'T MODIFY ANYTHING IN THIS CELL THAT IS BELOW THIS LINE\n",
    "\"\"\"\n",
    "from urllib.request import urlretrieve\n",
    "from os.path import isfile, isdir\n",
    "from tqdm import tqdm\n",
    "import problem_unittests as tests\n",
    "import tarfile\n",
    "\n",
    "cifar10_dataset_folder_path = 'cifar-10-batches-py'\n",
    "\n",
    "class DLProgress(tqdm):\n",
    "    last_block = 0\n",
    "\n",
    "    def hook(self, block_num=1, block_size=1, total_size=None):\n",
    "        self.total = total_size\n",
    "        self.update((block_num - self.last_block) * block_size)\n",
    "        self.last_block = block_num\n",
    "\n",
    "if not isfile('cifar-10-python.tar.gz'):\n",
    "    with DLProgress(unit='B', unit_scale=True, miniters=1, desc='CIFAR-10 Dataset') as pbar:\n",
    "        urlretrieve(\n",
    "            'https://www.cs.toronto.edu/~kriz/cifar-10-python.tar.gz',\n",
    "            'cifar-10-python.tar.gz',\n",
    "            pbar.hook)\n",
    "\n",
    "if not isdir(cifar10_dataset_folder_path):\n",
    "    with tarfile.open('cifar-10-python.tar.gz') as tar:\n",
    "        tar.extractall()\n",
    "        tar.close()\n",
    "\n",
    "\n",
    "tests.test_folder_path(cifar10_dataset_folder_path)"
   ]
  },
  {
   "cell_type": "markdown",
   "metadata": {
    "deletable": true,
    "editable": true
   },
   "source": [
    "## Explore the Data\n",
    "The dataset is broken into batches to prevent your machine from running out of memory.  The CIFAR-10 dataset consists of 5 batches, named `data_batch_1`, `data_batch_2`, etc.. Each batch contains the labels and images that are one of the following:\n",
    "* airplane\n",
    "* automobile\n",
    "* bird\n",
    "* cat\n",
    "* deer\n",
    "* dog\n",
    "* frog\n",
    "* horse\n",
    "* ship\n",
    "* truck\n",
    "\n",
    "Understanding a dataset is part of making predictions on the data.  Play around with the code cell below by changing the `batch_id` and `sample_id`. The `batch_id` is the id for a batch (1-5). The `sample_id` is the id for a image and label pair in the batch.\n",
    "\n",
    "Ask yourself \"What are all possible labels?\", \"What is the range of values for the image data?\", \"Are the labels in order or random?\".  Answers to questions like these will help you preprocess the data and end up with better predictions."
   ]
  },
  {
   "cell_type": "code",
   "execution_count": 2,
   "metadata": {
    "collapsed": false,
    "deletable": true,
    "editable": true
   },
   "outputs": [
    {
     "name": "stdout",
     "output_type": "stream",
     "text": [
      "\n",
      "Stats of batch 1:\n",
      "Samples: 10000\n",
      "Label Counts: {0: 1005, 1: 974, 2: 1032, 3: 1016, 4: 999, 5: 937, 6: 1030, 7: 1001, 8: 1025, 9: 981}\n",
      "First 20 Labels: [6, 9, 9, 4, 1, 1, 2, 7, 8, 3, 4, 7, 7, 2, 9, 9, 9, 3, 2, 6]\n",
      "\n",
      "Example of Image 30:\n",
      "Image - Min Value: 5 Max Value: 241\n",
      "Image - Shape: (32, 32, 3)\n",
      "Label - Label Id: 0 Name: airplane\n"
     ]
    },
    {
     "data": {
      "image/png": "[encoded data removed]",
      "text/plain": [
       "<matplotlib.figure.Figure at 0x7fd421606c18>"
      ]
     },
     "metadata": {
      "image/png": {
       "height": 250,
       "width": 253
      }
     },
     "output_type": "display_data"
    }
   ],
   "source": [
    "%matplotlib inline\n",
    "%config InlineBackend.figure_format = 'retina'\n",
    "\n",
    "import helper\n",
    "import numpy as np\n",
    "\n",
    "# Explore the dataset\n",
    "batch_id = 1\n",
    "sample_id = 30\n",
    "helper.display_stats(cifar10_dataset_folder_path, batch_id, sample_id)"
   ]
  },
  {
   "cell_type": "markdown",
   "metadata": {
    "deletable": true,
    "editable": true
   },
   "source": [
    "## Implement Preprocess Functions\n",
    "### Normalize\n",
    "In the cell below, implement the `normalize` function to take in image data, `x`, and return it as a normalized Numpy array. The values should be in the range of 0 to 1, inclusive.  The return object should be the same shape as `x`."
   ]
  },
  {
   "cell_type": "code",
   "execution_count": 3,
   "metadata": {
    "collapsed": false,
    "deletable": true,
    "editable": true
   },
   "outputs": [
    {
     "name": "stdout",
     "output_type": "stream",
     "text": [
      "Tests Passed\n"
     ]
    }
   ],
   "source": [
    "def normalize(x):\n",
    "    \"\"\"\n",
    "    Normalize a list of sample image data in the range of 0 to 1\n",
    "    : x: List of image data.  The image shape is (32, 32, 3)\n",
    "    : return: Numpy array of normalize data\n",
    "    \"\"\"\n",
    "    a = 0\n",
    "    b = 1\n",
    "    color_min = 0\n",
    "    color_max = 255\n",
    "    x_norm = a + ( ( (x - color_min)*(b - a) )/( color_max - color_min ) )\n",
    "    return x_norm\n",
    "\n",
    "\"\"\"\n",
    "DON'T MODIFY ANYTHING IN THIS CELL THAT IS BELOW THIS LINE\n",
    "\"\"\"\n",
    "tests.test_normalize(normalize)"
   ]
  },
  {
   "cell_type": "markdown",
   "metadata": {
    "deletable": true,
    "editable": true
   },
   "source": [
    "### One-hot encode\n",
    "Just like the previous code cell, you'll be implementing a function for preprocessing.  This time, you'll implement the `one_hot_encode` function. The input, `x`, are a list of labels.  Implement the function to return the list of labels as One-Hot encoded Numpy array.  The possible values for labels are 0 to 9. The one-hot encoding function should return the same encoding for each value between each call to `one_hot_encode`.  Make sure to save the map of encodings outside the function.\n",
    "\n",
    "Hint: Don't reinvent the wheel."
   ]
  },
  {
   "cell_type": "code",
   "execution_count": 26,
   "metadata": {
    "collapsed": false,
    "deletable": true,
    "editable": true
   },
   "outputs": [
    {
     "name": "stdout",
     "output_type": "stream",
     "text": [
      "Tests Passed\n"
     ]
    }
   ],
   "source": [
    "\n",
    "from sklearn.preprocessing import LabelBinarizer\n",
    "enc =LabelBinarizer()\n",
    "#All Labels need t obe fit outside\n",
    "enc.fit([0,1,2,3,4,5,6,7,8,9])\n",
    "        \n",
    "def one_hot_encode(x):\n",
    "    \"\"\"\n",
    "    One hot encode a list of sample labels. Return a one-hot encoded vector for each label.\n",
    "    : x: List of sample Labels\n",
    "    : return: Numpy array of one-hot encoded labels\n",
    "    \"\"\"\n",
    "    x_encode = enc.transform(x)\n",
    "    return x_encode\n",
    "\n",
    "\"\"\"\n",
    "DON'T MODIFY ANYTHING IN THIS CELL THAT IS BELOW THIS LINE\n",
    "\"\"\"\n",
    "tests.test_one_hot_encode(one_hot_encode)"
   ]
  },
  {
   "cell_type": "markdown",
   "metadata": {
    "deletable": true,
    "editable": true
   },
   "source": [
    "### Randomize Data\n",
    "As you saw from exploring the data above, the order of the samples are randomized.  It doesn't hurt to randomize it again, but you don't need to for this dataset."
   ]
  },
  {
   "cell_type": "markdown",
   "metadata": {
    "deletable": true,
    "editable": true
   },
   "source": [
    "## Preprocess all the data and save it\n",
    "Running the code cell below will preprocess all the CIFAR-10 data and save it to file. The code below also uses 10% of the training data for validation."
   ]
  },
  {
   "cell_type": "code",
   "execution_count": 27,
   "metadata": {
    "collapsed": false,
    "deletable": true,
    "editable": true
   },
   "outputs": [],
   "source": [
    "\"\"\"\n",
    "DON'T MODIFY ANYTHING IN THIS CELL\n",
    "\"\"\"\n",
    "# Preprocess Training, Validation, and Testing Data\n",
    "helper.preprocess_and_save_data(cifar10_dataset_folder_path, normalize, one_hot_encode)"
   ]
  },
  {
   "cell_type": "markdown",
   "metadata": {
    "deletable": true,
    "editable": true
   },
   "source": [
    "# Check Point\n",
    "This is your first checkpoint.  If you ever decide to come back to this notebook or have to restart the notebook, you can start from here.  The preprocessed data has been saved to disk."
   ]
  },
  {
   "cell_type": "code",
   "execution_count": 2,
   "metadata": {
    "collapsed": true,
    "deletable": true,
    "editable": true
   },
   "outputs": [],
   "source": [
    "\"\"\"\n",
    "DON'T MODIFY ANYTHING IN THIS CELL\n",
    "\"\"\"\n",
    "import pickle\n",
    "import problem_unittests as tests\n",
    "import helper\n",
    "\n",
    "# Load the Preprocessed Validation data\n",
    "valid_features, valid_labels = pickle.load(open('preprocess_validation.p', mode='rb'))"
   ]
  },
  {
   "cell_type": "markdown",
   "metadata": {
    "deletable": true,
    "editable": true
   },
   "source": [
    "## Build the network\n",
    "For the neural network, you'll build each layer into a function.  Most of the code you've seen has been outside of functions. To test your code more thoroughly, we require that you put each layer in a function.  This allows us to give you better feedback and test for simple mistakes using our unittests before you submit your project.\n",
    "\n",
    "If you're finding it hard to dedicate enough time for this course a week, we've provided a small shortcut to this part of the project. In the next couple of problems, you'll have the option to use [TensorFlow Layers](https://www.tensorflow.org/api_docs/python/tf/layers) or [TensorFlow Layers (contrib)](https://www.tensorflow.org/api_guides/python/contrib.layers) to build each layer, except \"Convolutional & Max Pooling\" layer.  TF Layers is similar to Keras's and TFLearn's abstraction to layers, so it's easy to pickup.\n",
    "\n",
    "If you would like to get the most of this course, try to solve all the problems without TF Layers.  Let's begin!\n",
    "### Input\n",
    "The neural network needs to read the image data, one-hot encoded labels, and dropout keep probability. Implement the following functions\n",
    "* Implement `neural_net_image_input`\n",
    " * Return a [TF Placeholder](https://www.tensorflow.org/api_docs/python/tf/placeholder)\n",
    " * Set the shape using `image_shape` with batch size set to `None`.\n",
    " * Name the TensorFlow placeholder \"x\" using the TensorFlow `name` parameter in the [TF Placeholder](https://www.tensorflow.org/api_docs/python/tf/placeholder).\n",
    "* Implement `neural_net_label_input`\n",
    " * Return a [TF Placeholder](https://www.tensorflow.org/api_docs/python/tf/placeholder)\n",
    " * Set the shape using `n_classes` with batch size set to `None`.\n",
    " * Name the TensorFlow placeholder \"y\" using the TensorFlow `name` parameter in the [TF Placeholder](https://www.tensorflow.org/api_docs/python/tf/placeholder).\n",
    "* Implement `neural_net_keep_prob_input`\n",
    " * Return a [TF Placeholder](https://www.tensorflow.org/api_docs/python/tf/placeholder) for dropout keep probability.\n",
    " * Name the TensorFlow placeholder \"keep_prob\" using the TensorFlow `name` parameter in the [TF Placeholder](https://www.tensorflow.org/api_docs/python/tf/placeholder).\n",
    "\n",
    "These names will be used at the end of the project to load your saved model.\n",
    "\n",
    "Note: `None` for shapes in TensorFlow allow for a dynamic size."
   ]
  },
  {
   "cell_type": "code",
   "execution_count": 3,
   "metadata": {
    "collapsed": false,
    "deletable": true,
    "editable": true
   },
   "outputs": [
    {
     "name": "stdout",
     "output_type": "stream",
     "text": [
      "Image Input Tests Passed.\n",
      "Label Input Tests Passed.\n",
      "Keep Prob Tests Passed.\n"
     ]
    }
   ],
   "source": [
    "import tensorflow as tf\n",
    "\n",
    "def neural_net_image_input(image_shape):\n",
    "    \"\"\"\n",
    "    Return a Tensor for a bach of image input\n",
    "    : image_shape: Shape of the images\n",
    "    : return: Tensor for image input.\n",
    "    \"\"\"\n",
    "    return tf.placeholder(tf.float32, shape=(None,image_shape[0],image_shape[1],image_shape[2]), name='x')\n",
    "\n",
    "\n",
    "def neural_net_label_input(n_classes):\n",
    "    \"\"\"\n",
    "    Return a Tensor for a batch of label input\n",
    "    : n_classes: Number of classes\n",
    "    : return: Tensor for label input.\n",
    "    \"\"\"\n",
    "    return tf.placeholder(tf.float32, shape=(None,n_classes), name='y')\n",
    "\n",
    "\n",
    "def neural_net_keep_prob_input():\n",
    "    \"\"\"\n",
    "    Return a Tensor for keep probability\n",
    "    : return: Tensor for keep probability.\n",
    "    \"\"\"\n",
    "    return tf.placeholder(tf.float32, name='keep_prob')\n",
    "\n",
    "\n",
    "\"\"\"\n",
    "DON'T MODIFY ANYTHING IN THIS CELL THAT IS BELOW THIS LINE\n",
    "\"\"\"\n",
    "tf.reset_default_graph()\n",
    "tests.test_nn_image_inputs(neural_net_image_input)\n",
    "tests.test_nn_label_inputs(neural_net_label_input)\n",
    "tests.test_nn_keep_prob_inputs(neural_net_keep_prob_input)"
   ]
  },
  {
   "cell_type": "markdown",
   "metadata": {
    "deletable": true,
    "editable": true
   },
   "source": [
    "### Convolution and Max Pooling Layer\n",
    "Convolution layers have a lot of success with images. For this code cell, you should implement the function `conv2d_maxpool` to apply convolution then max pooling:\n",
    "* Create the weight and bias using `conv_ksize`, `conv_num_outputs` and the shape of `x_tensor`.\n",
    "* Apply a convolution to `x_tensor` using weight and `conv_strides`.\n",
    " * We recommend you use same padding, but you're welcome to use any padding.\n",
    "* Add bias\n",
    "* Add a nonlinear activation to the convolution.\n",
    "* Apply Max Pooling using `pool_ksize` and `pool_strides`.\n",
    " * We recommend you use same padding, but you're welcome to use any padding.\n",
    "\n",
    "Note: You **can't** use [TensorFlow Layers](https://www.tensorflow.org/api_docs/python/tf/layers) or [TensorFlow Layers (contrib)](https://www.tensorflow.org/api_guides/python/contrib.layers) for this layer.  You're free to use any TensorFlow package for all the other layers."
   ]
  },
  {
   "cell_type": "code",
   "execution_count": 9,
   "metadata": {
    "collapsed": false,
    "deletable": true,
    "editable": true
   },
   "outputs": [
    {
     "name": "stdout",
     "output_type": "stream",
     "text": [
      "Maxpool After Conv.: Tensor(\"Relu_5:0\", shape=(?, 8, 8, 10), dtype=float32)\n",
      "Maxpool Output: Tensor(\"MaxPool_2:0\", shape=(?, 4, 4, 10), dtype=float32)\n",
      "Tests Passed\n"
     ]
    }
   ],
   "source": [
    "def conv2d_maxpool(x_tensor, conv_num_outputs, conv_ksize, conv_strides, pool_ksize, pool_strides):\n",
    "    \"\"\"\n",
    "    Apply convolution then max pooling to x_tensor\n",
    "    :param x_tensor: TensorFlow Tensor\n",
    "    :param conv_num_outputs: Number of outputs for the convolutional layer\n",
    "    :param conv_strides: Stride 2-D Tuple for convolution\n",
    "    :param pool_ksize: kernal size 2-D Tuple for pool\n",
    "    :param pool_strides: Stride 2-D Tuple for pool\n",
    "    : return: A tensor that represents convolution and max pooling of x_tensor\n",
    "    \"\"\"\n",
    "    #Create Weights & Bias\n",
    "    shape = x_tensor.get_shape().as_list()\n",
    "    weight = tf.Variable(tf.truncated_normal([shape[1],shape[2],shape[3],conv_num_outputs],stddev = 0.02))\n",
    "    bias = tf.Variable(tf.truncated_normal([conv_num_outputs],stddev = 0.02))\n",
    "    #Convolution\n",
    "    x_tensor = tf.nn.conv2d(x_tensor, weight, strides=[1,conv_strides[0],conv_strides[1],1], padding='SAME')\n",
    "    x_tensor = tf.nn.bias_add(x_tensor, bias)\n",
    "    x_tensor = tf.nn.relu(x_tensor)\n",
    "    print('Maxpool After Conv.:', x_tensor)\n",
    "    #Max Pooling\n",
    "    x_tensor = tf.nn.max_pool(x_tensor,ksize =[1,pool_ksize[0],pool_ksize[1],1] ,strides =[1, pool_strides[0],pool_strides[1],1],padding='SAME')\n",
    "    print('Maxpool Output:',x_tensor)\n",
    "    return x_tensor\n",
    "\n",
    "\n",
    "\"\"\"\n",
    "DON'T MODIFY ANYTHING IN THIS CELL THAT IS BELOW THIS LINE\n",
    "\"\"\"\n",
    "tests.test_con_pool(conv2d_maxpool)"
   ]
  },
  {
   "cell_type": "markdown",
   "metadata": {
    "deletable": true,
    "editable": true
   },
   "source": [
    "### Flatten Layer\n",
    "Implement the `flatten` function to change the dimension of `x_tensor` from a 4-D tensor to a 2-D tensor.  The output should be the shape (*Batch Size*, *Flattened Image Size*). You can use [TensorFlow Layers](https://www.tensorflow.org/api_docs/python/tf/layers) or [TensorFlow Layers (contrib)](https://www.tensorflow.org/api_guides/python/contrib.layers) for this layer."
   ]
  },
  {
   "cell_type": "code",
   "execution_count": 10,
   "metadata": {
    "collapsed": false,
    "deletable": true,
    "editable": true
   },
   "outputs": [
    {
     "name": "stdout",
     "output_type": "stream",
     "text": [
      "Tests Passed\n"
     ]
    }
   ],
   "source": [
    "import numpy\n",
    "\n",
    "def flatten(x_tensor):\n",
    "    \"\"\"\n",
    "    Flatten x_tensor to (Batch Size, Flattened Image Size)\n",
    "    : x_tensor: A tensor of size (Batch Size, ...), where ... are the image dimensions.\n",
    "    : return: A tensor of size (Batch Size, Flattened Image Size).\n",
    "    \"\"\"\n",
    "    #Alternative: y_tensor = tf.contrib.layers.flatten(x_tensor)\n",
    "    form = x_tensor.get_shape().as_list()\n",
    "    dimension = numpy.prod(form[1:])\n",
    "    y_tensor = tf.reshape(x_tensor, [-1,dimension])\n",
    "    return y_tensor\n",
    "\n",
    "\n",
    "\"\"\"\n",
    "DON'T MODIFY ANYTHING IN THIS CELL THAT IS BELOW THIS LINE\n",
    "\"\"\"\n",
    "tests.test_flatten(flatten)"
   ]
  },
  {
   "cell_type": "markdown",
   "metadata": {
    "deletable": true,
    "editable": true
   },
   "source": [
    "### Fully-Connected Layer\n",
    "Implement the `fully_conn` function to apply a fully connected layer to `x_tensor` with the shape (*Batch Size*, *num_outputs*). You can use [TensorFlow Layers](https://www.tensorflow.org/api_docs/python/tf/layers) or [TensorFlow Layers (contrib)](https://www.tensorflow.org/api_guides/python/contrib.layers) for this layer."
   ]
  },
  {
   "cell_type": "code",
   "execution_count": 11,
   "metadata": {
    "collapsed": false,
    "deletable": true,
    "editable": true
   },
   "outputs": [
    {
     "name": "stdout",
     "output_type": "stream",
     "text": [
      "Fully Input: Tensor(\"Placeholder_2:0\", shape=(?, 128), dtype=float32)\n",
      "Fully Output: Tensor(\"Relu_6:0\", shape=(?, 40), dtype=float32)\n",
      "Tests Passed\n"
     ]
    }
   ],
   "source": [
    "def fully_conn(x_tensor, num_outputs):\n",
    "    \"\"\"\n",
    "    Apply a fully connected layer to x_tensor using weight and bias\n",
    "    : x_tensor: A 2-D tensor where the first dimension is batch size.\n",
    "    : num_outputs: The number of output that the new tensor should be.\n",
    "    : return: A 2-D tensor where the second dimension is num_outputs.\n",
    "    \"\"\"\n",
    "    print('Fully Input:',x_tensor)\n",
    "    weight = tf.Variable(tf.truncated_normal([x_tensor.get_shape().as_list()[1],num_outputs],stddev = 0.02))\n",
    "    bias = tf.Variable(tf.truncated_normal([num_outputs],stddev = 0.02))\n",
    "    x_tensor = tf.add(tf.matmul(x_tensor,weight), bias)\n",
    "    x_tensor = tf.nn.relu(x_tensor)\n",
    "    print('Fully Output:',x_tensor)\n",
    "    return x_tensor\n",
    "\n",
    "\n",
    "\"\"\"\n",
    "DON'T MODIFY ANYTHING IN THIS CELL THAT IS BELOW THIS LINE\n",
    "\"\"\"\n",
    "tests.test_fully_conn(fully_conn)"
   ]
  },
  {
   "cell_type": "markdown",
   "metadata": {
    "deletable": true,
    "editable": true
   },
   "source": [
    "### Output Layer\n",
    "Implement the `output` function to apply a fully connected layer to `x_tensor` with the shape (*Batch Size*, *num_outputs*). You can use [TensorFlow Layers](https://www.tensorflow.org/api_docs/python/tf/layers) or [TensorFlow Layers (contrib)](https://www.tensorflow.org/api_guides/python/contrib.layers) for this layer.\n",
    "\n",
    "Note: Activation, softmax, or cross entropy shouldn't be applied to this."
   ]
  },
  {
   "cell_type": "code",
   "execution_count": 12,
   "metadata": {
    "collapsed": false,
    "deletable": true,
    "editable": true
   },
   "outputs": [
    {
     "name": "stdout",
     "output_type": "stream",
     "text": [
      "Tests Passed\n"
     ]
    }
   ],
   "source": [
    "def output(x_tensor, num_outputs):\n",
    "    \"\"\"\n",
    "    Apply a output layer to x_tensor using weight and bias\n",
    "    : x_tensor: A 2-D tensor where the first dimension is batch size.\n",
    "    : num_outputs: The number of output that the new tensor should be.\n",
    "    : return: A 2-D tensor where the second dimension is num_outputs.\n",
    "    \"\"\"\n",
    "\n",
    "    weight = tf.Variable(tf.truncated_normal([x_tensor.get_shape().as_list()[1],num_outputs],stddev = 0.01))\n",
    "    bias = tf.Variable(tf.truncated_normal([num_outputs],stddev = 0.01))\n",
    "    out = tf.add(tf.matmul(x_tensor, weight), bias)\n",
    "    return out\n",
    "\n",
    "\n",
    "\"\"\"\n",
    "DON'T MODIFY ANYTHING IN THIS CELL THAT IS BELOW THIS LINE\n",
    "\"\"\"\n",
    "tests.test_output(output)"
   ]
  },
  {
   "cell_type": "markdown",
   "metadata": {
    "deletable": true,
    "editable": true
   },
   "source": [
    "### Create Convolutional Model\n",
    "Implement the function `conv_net` to create a convolutional neural network model. The function takes in a batch of images, `x`, and outputs logits.  Use the layers you created above to create this model:\n",
    "\n",
    "* Apply 1, 2, or 3 Convolution and Max Pool layers\n",
    "* Apply a Flatten Layer\n",
    "* Apply 1, 2, or 3 Fully Connected Layers\n",
    "* Apply an Output Layer\n",
    "* Return the output\n",
    "* Apply [TensorFlow's Dropout](https://www.tensorflow.org/api_docs/python/tf/nn/dropout) to one or more layers in the model using `keep_prob`. "
   ]
  },
  {
   "cell_type": "code",
   "execution_count": 16,
   "metadata": {
    "collapsed": false,
    "deletable": true,
    "editable": true
   },
   "outputs": [
    {
     "name": "stdout",
     "output_type": "stream",
     "text": [
      "Maxpool After Conv.: Tensor(\"Relu:0\", shape=(?, 16, 16, 32), dtype=float32)\n",
      "Maxpool Output: Tensor(\"MaxPool:0\", shape=(?, 8, 8, 32), dtype=float32)\n",
      "Maxpool After Conv.: Tensor(\"Relu_1:0\", shape=(?, 4, 4, 17), dtype=float32)\n",
      "Maxpool Output: Tensor(\"MaxPool_1:0\", shape=(?, 4, 4, 17), dtype=float32)\n",
      "Fully Input: Tensor(\"Reshape:0\", shape=(?, 272), dtype=float32)\n",
      "Fully Output: Tensor(\"Relu_2:0\", shape=(?, 600), dtype=float32)\n",
      "Fully Input: Tensor(\"dropout_1/mul:0\", shape=(?, 600), dtype=float32)\n",
      "Fully Output: Tensor(\"Relu_3:0\", shape=(?, 300), dtype=float32)\n",
      "Fully Input: Tensor(\"Relu_3:0\", shape=(?, 300), dtype=float32)\n",
      "Fully Output: Tensor(\"Relu_4:0\", shape=(?, 150), dtype=float32)\n",
      "Maxpool After Conv.: Tensor(\"Relu_5:0\", shape=(?, 16, 16, 32), dtype=float32)\n",
      "Maxpool Output: Tensor(\"MaxPool_2:0\", shape=(?, 8, 8, 32), dtype=float32)\n",
      "Maxpool After Conv.: Tensor(\"Relu_6:0\", shape=(?, 4, 4, 17), dtype=float32)\n",
      "Maxpool Output: Tensor(\"MaxPool_3:0\", shape=(?, 4, 4, 17), dtype=float32)\n",
      "Fully Input: Tensor(\"Reshape_4:0\", shape=(?, 272), dtype=float32)\n",
      "Fully Output: Tensor(\"Relu_7:0\", shape=(?, 600), dtype=float32)\n",
      "Fully Input: Tensor(\"dropout_3/mul:0\", shape=(?, 600), dtype=float32)\n",
      "Fully Output: Tensor(\"Relu_8:0\", shape=(?, 300), dtype=float32)\n",
      "Fully Input: Tensor(\"Relu_8:0\", shape=(?, 300), dtype=float32)\n",
      "Fully Output: Tensor(\"Relu_9:0\", shape=(?, 150), dtype=float32)\n",
      "Neural Network Built!\n"
     ]
    }
   ],
   "source": [
    "def conv_net(x, keep_prob):\n",
    "    \"\"\"\n",
    "    Create a convolutional neural network model\n",
    "    : x: Placeholder tensor that holds image data.\n",
    "    : keep_prob: Placeholder tensor that hold dropout keep probability.\n",
    "    : return: Tensor that represents logits\n",
    "    \"\"\"\n",
    "    # TODO: Apply 1, 2, or 3 Convolution and Max Pool layers\n",
    "    #    Play around with different number of outputs, kernel size and stride\n",
    "    # Function Definition from Above:\n",
    "    #    conv2d_maxpool(x_tensor, conv_num_outputs, conv_ksize, conv_strides, pool_ksize, pool_strides)\n",
    "    \n",
    "    x_tensor = conv2d_maxpool(x, 32, (4,4), (2,2), (3,3), (2,2))\n",
    "    x_tensor = tf.nn.dropout(x_tensor, keep_prob)\n",
    "    x_tensor = conv2d_maxpool(x_tensor, 17, (3,3), (2,2), (1,1), (1,1))\n",
    "    \n",
    "\n",
    "    # TODO: Apply a Flatten Layer\n",
    "    # Function Definition from Above:\n",
    "    #   flatten(x_tensor)\n",
    "    \n",
    "    x_tensor = flatten(x_tensor)\n",
    "    # TODO: Apply 1, 2, or 3 Fully Connected Layers\n",
    "    #    Play around with different number of outputs\n",
    "    # Function Definition from Above:\n",
    "    #   fully_conn(x_tensor, num_outputs)\n",
    "    x_tensor = fully_conn(x_tensor, 600)\n",
    "    x_tensor = tf.nn.dropout(x_tensor, keep_prob)\n",
    "    x_tensor = fully_conn(x_tensor, 300)\n",
    "    x_tensor = fully_conn(x_tensor, 150)\n",
    "    \n",
    "    # TODO: Apply an Output Layer\n",
    "    #    Set this to the number of classes\n",
    "    # Function Definition from Above:\n",
    "    #   output(x_tensor, num_outputs)\n",
    "\n",
    "    return output(x_tensor, 10)\n",
    "\n",
    "\n",
    "\"\"\"\n",
    "DON'T MODIFY ANYTHING IN THIS CELL THAT IS BELOW THIS LINE\n",
    "\"\"\"\n",
    "\n",
    "##############################\n",
    "## Build the Neural Network ##\n",
    "##############################\n",
    "\n",
    "# Remove previous weights, bias, inputs, etc..\n",
    "tf.reset_default_graph()\n",
    "\n",
    "# Inputs\n",
    "x = neural_net_image_input((32, 32, 3))\n",
    "y = neural_net_label_input(10)\n",
    "keep_prob = neural_net_keep_prob_input()\n",
    "\n",
    "# Model\n",
    "logits = conv_net(x, keep_prob)\n",
    "\n",
    "# Name logits Tensor, so that is can be loaded from disk after training\n",
    "logits = tf.identity(logits, name='logits')\n",
    "\n",
    "# Loss and Optimizer\n",
    "cost = tf.reduce_mean(tf.nn.softmax_cross_entropy_with_logits(logits=logits, labels=y))\n",
    "optimizer = tf.train.AdamOptimizer().minimize(cost)\n",
    "\n",
    "# Accuracy\n",
    "correct_pred = tf.equal(tf.argmax(logits, 1), tf.argmax(y, 1))\n",
    "accuracy = tf.reduce_mean(tf.cast(correct_pred, tf.float32), name='accuracy')\n",
    "\n",
    "tests.test_conv_net(conv_net)"
   ]
  },
  {
   "cell_type": "markdown",
   "metadata": {
    "deletable": true,
    "editable": true
   },
   "source": [
    "## Train the Neural Network\n",
    "### Single Optimization\n",
    "Implement the function `train_neural_network` to do a single optimization.  The optimization should use `optimizer` to optimize in `session` with a `feed_dict` of the following:\n",
    "* `x` for image input\n",
    "* `y` for labels\n",
    "* `keep_prob` for keep probability for dropout\n",
    "\n",
    "This function will be called for each batch, so `tf.global_variables_initializer()` has already been called.\n",
    "\n",
    "Note: Nothing needs to be returned. This function is only optimizing the neural network."
   ]
  },
  {
   "cell_type": "code",
   "execution_count": 17,
   "metadata": {
    "collapsed": false,
    "deletable": true,
    "editable": true
   },
   "outputs": [
    {
     "name": "stdout",
     "output_type": "stream",
     "text": [
      "Tests Passed\n"
     ]
    }
   ],
   "source": [
    "def train_neural_network(session, optimizer, keep_probability, feature_batch, label_batch):\n",
    "    \"\"\"\n",
    "    Optimize the session on a batch of images and labels\n",
    "    : session: Current TensorFlow session\n",
    "    : optimizer: TensorFlow optimizer function\n",
    "    : keep_probability: keep probability\n",
    "    : feature_batch: Batch of Numpy image data\n",
    "    : label_batch: Batch of Numpy label data\n",
    "    \"\"\"\n",
    "    session.run(optimizer, feed_dict={\n",
    "        x: feature_batch,\n",
    "        y: label_batch,\n",
    "        keep_prob: keep_probability})\n",
    "  \n",
    "\n",
    "\"\"\"\n",
    "DON'T MODIFY ANYTHING IN THIS CELL THAT IS BELOW THIS LINE\n",
    "\"\"\"\n",
    "tests.test_train_nn(train_neural_network)"
   ]
  },
  {
   "cell_type": "markdown",
   "metadata": {
    "deletable": true,
    "editable": true
   },
   "source": [
    "### Show Stats\n",
    "Implement the function `print_stats` to print loss and validation accuracy.  Use the global variables `valid_features` and `valid_labels` to calculate validation accuracy.  Use a keep probability of `1.0` to calculate the loss and validation accuracy."
   ]
  },
  {
   "cell_type": "code",
   "execution_count": 18,
   "metadata": {
    "collapsed": false,
    "deletable": true,
    "editable": true
   },
   "outputs": [],
   "source": [
    "def print_stats(session, feature_batch, label_batch, cost, accuracy):\n",
    "    \"\"\"\n",
    "    Print information about loss and validation accuracy\n",
    "    : session: Current TensorFlow session\n",
    "    : feature_batch: Batch of Numpy image data\n",
    "    : label_batch: Batch of Numpy label data\n",
    "    : cost: TensorFlow cost function\n",
    "    : accuracy: TensorFlow accuracy function\n",
    "    \"\"\"\n",
    "    loss = session.run(cost, feed_dict={\n",
    "        x: feature_batch,\n",
    "        y: label_batch,\n",
    "        keep_prob: 1.0})\n",
    "    \n",
    "    \n",
    "    acc = sess.run(accuracy, feed_dict={\n",
    "        x: valid_features,\n",
    "        y: valid_labels,\n",
    "        keep_prob: 1.0})\n",
    "\n",
    "    print('Loss: {:>10.4f} Validation Accuracy: {:.6f}'.format(loss,acc))"
   ]
  },
  {
   "cell_type": "markdown",
   "metadata": {
    "deletable": true,
    "editable": true
   },
   "source": [
    "### Hyperparameters\n",
    "Tune the following parameters:\n",
    "* Set `epochs` to the number of iterations until the network stops learning or start overfitting\n",
    "* Set `batch_size` to the highest number that your machine has memory for.  Most people set them to common sizes of memory:\n",
    " * 64\n",
    " * 128\n",
    " * 256\n",
    " * ...\n",
    "* Set `keep_probability` to the probability of keeping a node using dropout"
   ]
  },
  {
   "cell_type": "code",
   "execution_count": 25,
   "metadata": {
    "collapsed": true,
    "deletable": true,
    "editable": true
   },
   "outputs": [],
   "source": [
    "# TODO: Tune Parameters\n",
    "epochs = 32\n",
    "batch_size = 450\n",
    "keep_probability = 0.6"
   ]
  },
  {
   "cell_type": "markdown",
   "metadata": {
    "deletable": true,
    "editable": true
   },
   "source": [
    "### Train on a Single CIFAR-10 Batch\n",
    "Instead of training the neural network on all the CIFAR-10 batches of data, let's use a single batch. This should save time while you iterate on the model to get a better accuracy.  Once the final validation accuracy is 50% or greater, run the model on all the data in the next section."
   ]
  },
  {
   "cell_type": "code",
   "execution_count": 29,
   "metadata": {
    "collapsed": false,
    "deletable": true,
    "editable": true
   },
   "outputs": [
    {
     "name": "stdout",
     "output_type": "stream",
     "text": [
      "Checking the Training on a Single Batch...\n",
      "Epoch  1, CIFAR-10 Batch 1:  Loss:     2.2435 Validation Accuracy: 0.161200\n",
      "Epoch  2, CIFAR-10 Batch 1:  Loss:     2.1313 Validation Accuracy: 0.175200\n",
      "Epoch  3, CIFAR-10 Batch 1:  Loss:     2.0750 Validation Accuracy: 0.195200\n",
      "Epoch  4, CIFAR-10 Batch 1:  Loss:     2.0250 Validation Accuracy: 0.229000\n",
      "Epoch  5, CIFAR-10 Batch 1:  Loss:     1.9768 Validation Accuracy: 0.244000\n",
      "Epoch  6, CIFAR-10 Batch 1:  Loss:     1.8943 Validation Accuracy: 0.277800\n",
      "Epoch  7, CIFAR-10 Batch 1:  Loss:     1.8659 Validation Accuracy: 0.295000\n",
      "Epoch  8, CIFAR-10 Batch 1:  Loss:     1.8218 Validation Accuracy: 0.309800\n",
      "Epoch  9, CIFAR-10 Batch 1:  Loss:     1.7749 Validation Accuracy: 0.318400\n",
      "Epoch 10, CIFAR-10 Batch 1:  Loss:     1.7313 Validation Accuracy: 0.330400\n",
      "Epoch 11, CIFAR-10 Batch 1:  Loss:     1.7176 Validation Accuracy: 0.339000\n",
      "Epoch 12, CIFAR-10 Batch 1:  Loss:     1.6851 Validation Accuracy: 0.362600\n",
      "Epoch 13, CIFAR-10 Batch 1:  Loss:     1.6505 Validation Accuracy: 0.378000\n",
      "Epoch 14, CIFAR-10 Batch 1:  Loss:     1.5897 Validation Accuracy: 0.397000\n",
      "Epoch 15, CIFAR-10 Batch 1:  Loss:     1.5496 Validation Accuracy: 0.412800\n",
      "Epoch 16, CIFAR-10 Batch 1:  Loss:     1.5171 Validation Accuracy: 0.407000\n",
      "Epoch 17, CIFAR-10 Batch 1:  Loss:     1.4828 Validation Accuracy: 0.421400\n",
      "Epoch 18, CIFAR-10 Batch 1:  Loss:     1.4667 Validation Accuracy: 0.420200\n",
      "Epoch 19, CIFAR-10 Batch 1:  Loss:     1.4906 Validation Accuracy: 0.421800\n",
      "Epoch 20, CIFAR-10 Batch 1:  Loss:     1.4211 Validation Accuracy: 0.434400\n",
      "Epoch 21, CIFAR-10 Batch 1:  Loss:     1.4169 Validation Accuracy: 0.426400\n",
      "Epoch 22, CIFAR-10 Batch 1:  Loss:     1.4285 Validation Accuracy: 0.427400\n",
      "Epoch 23, CIFAR-10 Batch 1:  Loss:     1.4057 Validation Accuracy: 0.426000\n",
      "Epoch 24, CIFAR-10 Batch 1:  Loss:     1.2986 Validation Accuracy: 0.460400\n",
      "Epoch 25, CIFAR-10 Batch 1:  Loss:     1.3036 Validation Accuracy: 0.449800\n",
      "Epoch 26, CIFAR-10 Batch 1:  Loss:     1.2723 Validation Accuracy: 0.458400\n",
      "Epoch 27, CIFAR-10 Batch 1:  Loss:     1.2616 Validation Accuracy: 0.458200\n",
      "Epoch 28, CIFAR-10 Batch 1:  Loss:     1.2550 Validation Accuracy: 0.447400\n",
      "Epoch 29, CIFAR-10 Batch 1:  Loss:     1.3018 Validation Accuracy: 0.443200\n",
      "Epoch 30, CIFAR-10 Batch 1:  Loss:     1.2402 Validation Accuracy: 0.452600\n",
      "Epoch 31, CIFAR-10 Batch 1:  Loss:     1.2282 Validation Accuracy: 0.444800\n",
      "Epoch 32, CIFAR-10 Batch 1:  Loss:     1.1660 Validation Accuracy: 0.455600\n"
     ]
    }
   ],
   "source": [
    "\"\"\"\n",
    "DON'T MODIFY ANYTHING IN THIS CELL\n",
    "\"\"\"\n",
    "print('Checking the Training on a Single Batch...')\n",
    "with tf.Session() as sess:\n",
    "    # Initializing the variables\n",
    "    sess.run(tf.global_variables_initializer())\n",
    "    \n",
    "    # Training cycle\n",
    "    for epoch in range(epochs):\n",
    "        batch_i = 1\n",
    "        for batch_features, batch_labels in helper.load_preprocess_training_batch(batch_i, batch_size):\n",
    "            train_neural_network(sess, optimizer, keep_probability, batch_features, batch_labels)\n",
    "        print('Epoch {:>2}, CIFAR-10 Batch {}:  '.format(epoch + 1, batch_i), end='')\n",
    "        print_stats(sess, batch_features, batch_labels, cost, accuracy)"
   ]
  },
  {
   "cell_type": "markdown",
   "metadata": {
    "deletable": true,
    "editable": true
   },
   "source": [
    "### Fully Train the Model\n",
    "Now that you got a good accuracy with a single CIFAR-10 batch, try it with all five batches."
   ]
  },
  {
   "cell_type": "code",
   "execution_count": 27,
   "metadata": {
    "collapsed": false,
    "deletable": true,
    "editable": true,
    "scrolled": true
   },
   "outputs": [
    {
     "name": "stdout",
     "output_type": "stream",
     "text": [
      "Training...\n",
      "Epoch  1, CIFAR-10 Batch 1:  Loss:     2.1961 Validation Accuracy: 0.182200\n",
      "Epoch  1, CIFAR-10 Batch 2:  Loss:     2.0906 Validation Accuracy: 0.174200\n",
      "Epoch  1, CIFAR-10 Batch 3:  Loss:     2.0310 Validation Accuracy: 0.196200\n",
      "Epoch  1, CIFAR-10 Batch 4:  Loss:     1.9684 Validation Accuracy: 0.217800\n",
      "Epoch  1, CIFAR-10 Batch 5:  Loss:     1.9612 Validation Accuracy: 0.258200\n",
      "Epoch  2, CIFAR-10 Batch 1:  Loss:     1.9291 Validation Accuracy: 0.268000\n",
      "Epoch  2, CIFAR-10 Batch 2:  Loss:     1.8657 Validation Accuracy: 0.287400\n",
      "Epoch  2, CIFAR-10 Batch 3:  Loss:     1.7717 Validation Accuracy: 0.314400\n",
      "Epoch  2, CIFAR-10 Batch 4:  Loss:     1.7184 Validation Accuracy: 0.329600\n",
      "Epoch  2, CIFAR-10 Batch 5:  Loss:     1.7880 Validation Accuracy: 0.322400\n",
      "Epoch  3, CIFAR-10 Batch 1:  Loss:     1.7469 Validation Accuracy: 0.352400\n",
      "Epoch  3, CIFAR-10 Batch 2:  Loss:     1.7177 Validation Accuracy: 0.379400\n",
      "Epoch  3, CIFAR-10 Batch 3:  Loss:     1.6253 Validation Accuracy: 0.357200\n",
      "Epoch  3, CIFAR-10 Batch 4:  Loss:     1.5908 Validation Accuracy: 0.385600\n",
      "Epoch  3, CIFAR-10 Batch 5:  Loss:     1.6725 Validation Accuracy: 0.368000\n",
      "Epoch  4, CIFAR-10 Batch 1:  Loss:     1.6420 Validation Accuracy: 0.392400\n",
      "Epoch  4, CIFAR-10 Batch 2:  Loss:     1.5973 Validation Accuracy: 0.401400\n",
      "Epoch  4, CIFAR-10 Batch 3:  Loss:     1.5115 Validation Accuracy: 0.406000\n",
      "Epoch  4, CIFAR-10 Batch 4:  Loss:     1.5406 Validation Accuracy: 0.416800\n",
      "Epoch  4, CIFAR-10 Batch 5:  Loss:     1.5343 Validation Accuracy: 0.430000\n",
      "Epoch  5, CIFAR-10 Batch 1:  Loss:     1.5960 Validation Accuracy: 0.418000\n",
      "Epoch  5, CIFAR-10 Batch 2:  Loss:     1.5374 Validation Accuracy: 0.428000\n",
      "Epoch  5, CIFAR-10 Batch 3:  Loss:     1.4337 Validation Accuracy: 0.436800\n",
      "Epoch  5, CIFAR-10 Batch 4:  Loss:     1.4521 Validation Accuracy: 0.441600\n",
      "Epoch  5, CIFAR-10 Batch 5:  Loss:     1.4500 Validation Accuracy: 0.443200\n",
      "Epoch  6, CIFAR-10 Batch 1:  Loss:     1.4773 Validation Accuracy: 0.449000\n",
      "Epoch  6, CIFAR-10 Batch 2:  Loss:     1.4737 Validation Accuracy: 0.457800\n",
      "Epoch  6, CIFAR-10 Batch 3:  Loss:     1.3813 Validation Accuracy: 0.447800\n",
      "Epoch  6, CIFAR-10 Batch 4:  Loss:     1.3757 Validation Accuracy: 0.454600\n",
      "Epoch  6, CIFAR-10 Batch 5:  Loss:     1.4050 Validation Accuracy: 0.465000\n",
      "Epoch  7, CIFAR-10 Batch 1:  Loss:     1.4361 Validation Accuracy: 0.474600\n",
      "Epoch  7, CIFAR-10 Batch 2:  Loss:     1.4441 Validation Accuracy: 0.460200\n",
      "Epoch  7, CIFAR-10 Batch 3:  Loss:     1.3484 Validation Accuracy: 0.461400\n",
      "Epoch  7, CIFAR-10 Batch 4:  Loss:     1.3239 Validation Accuracy: 0.476800\n",
      "Epoch  7, CIFAR-10 Batch 5:  Loss:     1.3281 Validation Accuracy: 0.473000\n",
      "Epoch  8, CIFAR-10 Batch 1:  Loss:     1.3970 Validation Accuracy: 0.478800\n",
      "Epoch  8, CIFAR-10 Batch 2:  Loss:     1.3940 Validation Accuracy: 0.463600\n",
      "Epoch  8, CIFAR-10 Batch 3:  Loss:     1.3507 Validation Accuracy: 0.472800\n",
      "Epoch  8, CIFAR-10 Batch 4:  Loss:     1.2950 Validation Accuracy: 0.481600\n",
      "Epoch  8, CIFAR-10 Batch 5:  Loss:     1.2904 Validation Accuracy: 0.481400\n",
      "Epoch  9, CIFAR-10 Batch 1:  Loss:     1.3645 Validation Accuracy: 0.487600\n",
      "Epoch  9, CIFAR-10 Batch 2:  Loss:     1.3711 Validation Accuracy: 0.488400\n",
      "Epoch  9, CIFAR-10 Batch 3:  Loss:     1.2751 Validation Accuracy: 0.497800\n",
      "Epoch  9, CIFAR-10 Batch 4:  Loss:     1.2811 Validation Accuracy: 0.495800\n",
      "Epoch  9, CIFAR-10 Batch 5:  Loss:     1.2821 Validation Accuracy: 0.491800\n",
      "Epoch 10, CIFAR-10 Batch 1:  Loss:     1.3114 Validation Accuracy: 0.503800\n",
      "Epoch 10, CIFAR-10 Batch 2:  Loss:     1.3359 Validation Accuracy: 0.485600\n",
      "Epoch 10, CIFAR-10 Batch 3:  Loss:     1.2803 Validation Accuracy: 0.494200\n",
      "Epoch 10, CIFAR-10 Batch 4:  Loss:     1.2301 Validation Accuracy: 0.495000\n",
      "Epoch 10, CIFAR-10 Batch 5:  Loss:     1.2399 Validation Accuracy: 0.497400\n",
      "Epoch 11, CIFAR-10 Batch 1:  Loss:     1.3098 Validation Accuracy: 0.499800\n",
      "Epoch 11, CIFAR-10 Batch 2:  Loss:     1.3037 Validation Accuracy: 0.498800\n",
      "Epoch 11, CIFAR-10 Batch 3:  Loss:     1.1864 Validation Accuracy: 0.512800\n",
      "Epoch 11, CIFAR-10 Batch 4:  Loss:     1.2079 Validation Accuracy: 0.505400\n",
      "Epoch 11, CIFAR-10 Batch 5:  Loss:     1.1884 Validation Accuracy: 0.509600\n",
      "Epoch 12, CIFAR-10 Batch 1:  Loss:     1.2520 Validation Accuracy: 0.511000\n",
      "Epoch 12, CIFAR-10 Batch 2:  Loss:     1.2707 Validation Accuracy: 0.499000\n",
      "Epoch 12, CIFAR-10 Batch 3:  Loss:     1.2129 Validation Accuracy: 0.506600\n",
      "Epoch 12, CIFAR-10 Batch 4:  Loss:     1.1977 Validation Accuracy: 0.505400\n",
      "Epoch 12, CIFAR-10 Batch 5:  Loss:     1.1907 Validation Accuracy: 0.505400\n",
      "Epoch 13, CIFAR-10 Batch 1:  Loss:     1.2532 Validation Accuracy: 0.524400\n",
      "Epoch 13, CIFAR-10 Batch 2:  Loss:     1.2537 Validation Accuracy: 0.513000\n",
      "Epoch 13, CIFAR-10 Batch 3:  Loss:     1.1853 Validation Accuracy: 0.517800\n",
      "Epoch 13, CIFAR-10 Batch 4:  Loss:     1.1882 Validation Accuracy: 0.526800\n",
      "Epoch 13, CIFAR-10 Batch 5:  Loss:     1.1467 Validation Accuracy: 0.507400\n",
      "Epoch 14, CIFAR-10 Batch 1:  Loss:     1.2342 Validation Accuracy: 0.515200\n",
      "Epoch 14, CIFAR-10 Batch 2:  Loss:     1.2258 Validation Accuracy: 0.519200\n",
      "Epoch 14, CIFAR-10 Batch 3:  Loss:     1.1542 Validation Accuracy: 0.533600\n",
      "Epoch 14, CIFAR-10 Batch 4:  Loss:     1.1255 Validation Accuracy: 0.533200\n",
      "Epoch 14, CIFAR-10 Batch 5:  Loss:     1.1219 Validation Accuracy: 0.533600\n",
      "Epoch 15, CIFAR-10 Batch 1:  Loss:     1.2048 Validation Accuracy: 0.528000\n",
      "Epoch 15, CIFAR-10 Batch 2:  Loss:     1.2343 Validation Accuracy: 0.523800\n",
      "Epoch 15, CIFAR-10 Batch 3:  Loss:     1.1179 Validation Accuracy: 0.535800\n",
      "Epoch 15, CIFAR-10 Batch 4:  Loss:     1.1016 Validation Accuracy: 0.539600\n",
      "Epoch 15, CIFAR-10 Batch 5:  Loss:     1.1183 Validation Accuracy: 0.529000\n",
      "Epoch 16, CIFAR-10 Batch 1:  Loss:     1.1614 Validation Accuracy: 0.544600\n",
      "Epoch 16, CIFAR-10 Batch 2:  Loss:     1.2005 Validation Accuracy: 0.534600\n",
      "Epoch 16, CIFAR-10 Batch 3:  Loss:     1.1274 Validation Accuracy: 0.535000\n",
      "Epoch 16, CIFAR-10 Batch 4:  Loss:     1.0517 Validation Accuracy: 0.545400\n",
      "Epoch 16, CIFAR-10 Batch 5:  Loss:     1.0992 Validation Accuracy: 0.530800\n",
      "Epoch 17, CIFAR-10 Batch 1:  Loss:     1.1628 Validation Accuracy: 0.530600\n",
      "Epoch 17, CIFAR-10 Batch 2:  Loss:     1.1824 Validation Accuracy: 0.540800\n",
      "Epoch 17, CIFAR-10 Batch 3:  Loss:     1.1421 Validation Accuracy: 0.534800\n",
      "Epoch 17, CIFAR-10 Batch 4:  Loss:     1.0762 Validation Accuracy: 0.544200\n",
      "Epoch 17, CIFAR-10 Batch 5:  Loss:     1.0823 Validation Accuracy: 0.539600\n",
      "Epoch 18, CIFAR-10 Batch 1:  Loss:     1.1436 Validation Accuracy: 0.532600\n",
      "Epoch 18, CIFAR-10 Batch 2:  Loss:     1.1442 Validation Accuracy: 0.531200\n",
      "Epoch 18, CIFAR-10 Batch 3:  Loss:     1.1153 Validation Accuracy: 0.533000\n",
      "Epoch 18, CIFAR-10 Batch 4:  Loss:     1.0186 Validation Accuracy: 0.548200\n",
      "Epoch 18, CIFAR-10 Batch 5:  Loss:     1.0585 Validation Accuracy: 0.553200\n",
      "Epoch 19, CIFAR-10 Batch 1:  Loss:     1.1281 Validation Accuracy: 0.545000\n",
      "Epoch 19, CIFAR-10 Batch 2:  Loss:     1.1364 Validation Accuracy: 0.541200\n",
      "Epoch 19, CIFAR-10 Batch 3:  Loss:     1.0526 Validation Accuracy: 0.549200\n",
      "Epoch 19, CIFAR-10 Batch 4:  Loss:     1.0203 Validation Accuracy: 0.543800\n",
      "Epoch 19, CIFAR-10 Batch 5:  Loss:     1.0490 Validation Accuracy: 0.551600\n",
      "Epoch 20, CIFAR-10 Batch 1:  Loss:     1.0916 Validation Accuracy: 0.551000\n",
      "Epoch 20, CIFAR-10 Batch 2:  Loss:     1.1458 Validation Accuracy: 0.543400\n",
      "Epoch 20, CIFAR-10 Batch 3:  Loss:     1.0378 Validation Accuracy: 0.555800\n",
      "Epoch 20, CIFAR-10 Batch 4:  Loss:     0.9629 Validation Accuracy: 0.558400\n",
      "Epoch 20, CIFAR-10 Batch 5:  Loss:     1.0767 Validation Accuracy: 0.546000\n",
      "Epoch 21, CIFAR-10 Batch 1:  Loss:     1.0995 Validation Accuracy: 0.554400\n",
      "Epoch 21, CIFAR-10 Batch 2:  Loss:     1.0933 Validation Accuracy: 0.557600\n",
      "Epoch 21, CIFAR-10 Batch 3:  Loss:     1.0744 Validation Accuracy: 0.544600\n",
      "Epoch 21, CIFAR-10 Batch 4:  Loss:     1.0011 Validation Accuracy: 0.564600\n",
      "Epoch 21, CIFAR-10 Batch 5:  Loss:     1.0208 Validation Accuracy: 0.556200\n",
      "Epoch 22, CIFAR-10 Batch 1:  Loss:     1.0574 Validation Accuracy: 0.561000\n",
      "Epoch 22, CIFAR-10 Batch 2:  Loss:     1.0681 Validation Accuracy: 0.555000\n",
      "Epoch 22, CIFAR-10 Batch 3:  Loss:     1.0676 Validation Accuracy: 0.552400\n",
      "Epoch 22, CIFAR-10 Batch 4:  Loss:     0.9415 Validation Accuracy: 0.566800\n",
      "Epoch 22, CIFAR-10 Batch 5:  Loss:     1.0106 Validation Accuracy: 0.556600\n",
      "Epoch 23, CIFAR-10 Batch 1:  Loss:     1.0609 Validation Accuracy: 0.567600\n",
      "Epoch 23, CIFAR-10 Batch 2:  Loss:     1.0469 Validation Accuracy: 0.560600\n",
      "Epoch 23, CIFAR-10 Batch 3:  Loss:     1.0364 Validation Accuracy: 0.564200\n",
      "Epoch 23, CIFAR-10 Batch 4:  Loss:     0.9664 Validation Accuracy: 0.559400\n",
      "Epoch 23, CIFAR-10 Batch 5:  Loss:     0.9915 Validation Accuracy: 0.568000\n",
      "Epoch 24, CIFAR-10 Batch 1:  Loss:     1.0853 Validation Accuracy: 0.564400\n",
      "Epoch 24, CIFAR-10 Batch 2:  Loss:     1.0371 Validation Accuracy: 0.559800\n",
      "Epoch 24, CIFAR-10 Batch 3:  Loss:     1.0101 Validation Accuracy: 0.558600\n",
      "Epoch 24, CIFAR-10 Batch 4:  Loss:     0.9200 Validation Accuracy: 0.573000\n",
      "Epoch 24, CIFAR-10 Batch 5:  Loss:     0.9859 Validation Accuracy: 0.567200\n",
      "Epoch 25, CIFAR-10 Batch 1:  Loss:     1.0402 Validation Accuracy: 0.567400\n",
      "Epoch 25, CIFAR-10 Batch 2:  Loss:     1.0297 Validation Accuracy: 0.572800\n",
      "Epoch 25, CIFAR-10 Batch 3:  Loss:     0.9583 Validation Accuracy: 0.570200\n",
      "Epoch 25, CIFAR-10 Batch 4:  Loss:     0.9592 Validation Accuracy: 0.561600\n",
      "Epoch 25, CIFAR-10 Batch 5:  Loss:     0.9797 Validation Accuracy: 0.564200\n",
      "Epoch 26, CIFAR-10 Batch 1:  Loss:     1.0481 Validation Accuracy: 0.552200\n",
      "Epoch 26, CIFAR-10 Batch 2:  Loss:     1.0230 Validation Accuracy: 0.562600\n",
      "Epoch 26, CIFAR-10 Batch 3:  Loss:     0.9996 Validation Accuracy: 0.556600\n",
      "Epoch 26, CIFAR-10 Batch 4:  Loss:     0.9116 Validation Accuracy: 0.569200\n",
      "Epoch 26, CIFAR-10 Batch 5:  Loss:     0.9333 Validation Accuracy: 0.577000\n",
      "Epoch 27, CIFAR-10 Batch 1:  Loss:     1.0009 Validation Accuracy: 0.556200\n",
      "Epoch 27, CIFAR-10 Batch 2:  Loss:     1.0453 Validation Accuracy: 0.564600\n",
      "Epoch 27, CIFAR-10 Batch 3:  Loss:     0.9496 Validation Accuracy: 0.575400\n",
      "Epoch 27, CIFAR-10 Batch 4:  Loss:     0.8927 Validation Accuracy: 0.577400\n",
      "Epoch 27, CIFAR-10 Batch 5:  Loss:     0.9272 Validation Accuracy: 0.584200\n",
      "Epoch 28, CIFAR-10 Batch 1:  Loss:     0.9939 Validation Accuracy: 0.568000\n",
      "Epoch 28, CIFAR-10 Batch 2:  Loss:     0.9850 Validation Accuracy: 0.573600\n",
      "Epoch 28, CIFAR-10 Batch 3:  Loss:     0.9487 Validation Accuracy: 0.563200\n",
      "Epoch 28, CIFAR-10 Batch 4:  Loss:     0.8566 Validation Accuracy: 0.575800\n",
      "Epoch 28, CIFAR-10 Batch 5:  Loss:     0.9428 Validation Accuracy: 0.576800\n",
      "Epoch 29, CIFAR-10 Batch 1:  Loss:     0.9681 Validation Accuracy: 0.568000\n",
      "Epoch 29, CIFAR-10 Batch 2:  Loss:     0.9974 Validation Accuracy: 0.566000\n",
      "Epoch 29, CIFAR-10 Batch 3:  Loss:     0.9126 Validation Accuracy: 0.582600\n",
      "Epoch 29, CIFAR-10 Batch 4:  Loss:     0.8596 Validation Accuracy: 0.582000\n",
      "Epoch 29, CIFAR-10 Batch 5:  Loss:     0.9366 Validation Accuracy: 0.569400\n",
      "Epoch 30, CIFAR-10 Batch 1:  Loss:     0.9709 Validation Accuracy: 0.574400\n",
      "Epoch 30, CIFAR-10 Batch 2:  Loss:     0.9983 Validation Accuracy: 0.556600\n",
      "Epoch 30, CIFAR-10 Batch 3:  Loss:     0.9248 Validation Accuracy: 0.569400\n",
      "Epoch 30, CIFAR-10 Batch 4:  Loss:     0.8481 Validation Accuracy: 0.575400\n",
      "Epoch 30, CIFAR-10 Batch 5:  Loss:     0.8689 Validation Accuracy: 0.577000\n",
      "Epoch 31, CIFAR-10 Batch 1:  Loss:     0.9653 Validation Accuracy: 0.569800\n",
      "Epoch 31, CIFAR-10 Batch 2:  Loss:     0.9588 Validation Accuracy: 0.567800\n",
      "Epoch 31, CIFAR-10 Batch 3:  Loss:     0.9075 Validation Accuracy: 0.579400\n",
      "Epoch 31, CIFAR-10 Batch 4:  Loss:     0.8252 Validation Accuracy: 0.579800\n",
      "Epoch 31, CIFAR-10 Batch 5:  Loss:     0.8859 Validation Accuracy: 0.580800\n",
      "Epoch 32, CIFAR-10 Batch 1:  Loss:     0.9820 Validation Accuracy: 0.573000\n",
      "Epoch 32, CIFAR-10 Batch 2:  Loss:     0.9496 Validation Accuracy: 0.573600\n",
      "Epoch 32, CIFAR-10 Batch 3:  Loss:     0.9077 Validation Accuracy: 0.561800\n",
      "Epoch 32, CIFAR-10 Batch 4:  Loss:     0.8922 Validation Accuracy: 0.564000\n",
      "Epoch 32, CIFAR-10 Batch 5:  Loss:     0.8958 Validation Accuracy: 0.578400\n"
     ]
    }
   ],
   "source": [
    "\"\"\"\n",
    "DON'T MODIFY ANYTHING IN THIS CELL\n",
    "\"\"\"\n",
    "save_model_path = './image_classification'\n",
    "\n",
    "print('Training...')\n",
    "with tf.Session() as sess:\n",
    "    # Initializing the variables\n",
    "    sess.run(tf.global_variables_initializer())\n",
    "    \n",
    "    # Training cycle\n",
    "    for epoch in range(epochs):\n",
    "        # Loop over all batches\n",
    "        n_batches = 5\n",
    "        for batch_i in range(1, n_batches + 1):\n",
    "            for batch_features, batch_labels in helper.load_preprocess_training_batch(batch_i, batch_size):\n",
    "                train_neural_network(sess, optimizer, keep_probability, batch_features, batch_labels)\n",
    "            print('Epoch {:>2}, CIFAR-10 Batch {}:  '.format(epoch + 1, batch_i), end='')\n",
    "            print_stats(sess, batch_features, batch_labels, cost, accuracy)\n",
    "            \n",
    "    # Save Model\n",
    "    saver = tf.train.Saver()\n",
    "    save_path = saver.save(sess, save_model_path)"
   ]
  },
  {
   "cell_type": "markdown",
   "metadata": {
    "deletable": true,
    "editable": true
   },
   "source": [
    "# Checkpoint\n",
    "The model has been saved to disk.\n",
    "## Test Model\n",
    "Test your model against the test dataset.  This will be your final accuracy. You should have an accuracy greater than 50%. If you don't, keep tweaking the model architecture and parameters."
   ]
  },
  {
   "cell_type": "code",
   "execution_count": 28,
   "metadata": {
    "collapsed": false,
    "deletable": true,
    "editable": true
   },
   "outputs": [
    {
     "name": "stdout",
     "output_type": "stream",
     "text": [
      "Testing Accuracy: 0.5744444442831952\n",
      "\n"
     ]
    },
    {
     "data": {
      "image/png": "[encoded data removed]",
      "text/plain": [
       "<matplotlib.figure.Figure at 0x7f580efe7f28>"
      ]
     },
     "metadata": {
      "image/png": {
       "height": 319,
       "width": 355
      }
     },
     "output_type": "display_data"
    }
   ],
   "source": [
    "\"\"\"\n",
    "DON'T MODIFY ANYTHING IN THIS CELL\n",
    "\"\"\"\n",
    "%matplotlib inline\n",
    "%config InlineBackend.figure_format = 'retina'\n",
    "\n",
    "import tensorflow as tf\n",
    "import pickle\n",
    "import helper\n",
    "import random\n",
    "\n",
    "# Set batch size if not already set\n",
    "try:\n",
    "    if batch_size:\n",
    "        pass\n",
    "except NameError:\n",
    "    batch_size = 64\n",
    "\n",
    "save_model_path = './image_classification'\n",
    "n_samples = 4\n",
    "top_n_predictions = 3\n",
    "\n",
    "def test_model():\n",
    "    \"\"\"\n",
    "    Test the saved model against the test dataset\n",
    "    \"\"\"\n",
    "\n",
    "    test_features, test_labels = pickle.load(open('preprocess_training.p', mode='rb'))\n",
    "    loaded_graph = tf.Graph()\n",
    "\n",
    "    with tf.Session(graph=loaded_graph) as sess:\n",
    "        # Load model\n",
    "        loader = tf.train.import_meta_graph(save_model_path + '.meta')\n",
    "        loader.restore(sess, save_model_path)\n",
    "\n",
    "        # Get Tensors from loaded model\n",
    "        loaded_x = loaded_graph.get_tensor_by_name('x:0')\n",
    "        loaded_y = loaded_graph.get_tensor_by_name('y:0')\n",
    "        loaded_keep_prob = loaded_graph.get_tensor_by_name('keep_prob:0')\n",
    "        loaded_logits = loaded_graph.get_tensor_by_name('logits:0')\n",
    "        loaded_acc = loaded_graph.get_tensor_by_name('accuracy:0')\n",
    "        \n",
    "        # Get accuracy in batches for memory limitations\n",
    "        test_batch_acc_total = 0\n",
    "        test_batch_count = 0\n",
    "        \n",
    "        for train_feature_batch, train_label_batch in helper.batch_features_labels(test_features, test_labels, batch_size):\n",
    "            test_batch_acc_total += sess.run(\n",
    "                loaded_acc,\n",
    "                feed_dict={loaded_x: train_feature_batch, loaded_y: train_label_batch, loaded_keep_prob: 1.0})\n",
    "            test_batch_count += 1\n",
    "\n",
    "        print('Testing Accuracy: {}\\n'.format(test_batch_acc_total/test_batch_count))\n",
    "\n",
    "        # Print Random Samples\n",
    "        random_test_features, random_test_labels = tuple(zip(*random.sample(list(zip(test_features, test_labels)), n_samples)))\n",
    "        random_test_predictions = sess.run(\n",
    "            tf.nn.top_k(tf.nn.softmax(loaded_logits), top_n_predictions),\n",
    "            feed_dict={loaded_x: random_test_features, loaded_y: random_test_labels, loaded_keep_prob: 1.0})\n",
    "        helper.display_image_predictions(random_test_features, random_test_labels, random_test_predictions)\n",
    "\n",
    "\n",
    "test_model()"
   ]
  },
  {
   "cell_type": "markdown",
   "metadata": {
    "deletable": true,
    "editable": true
   },
   "source": [
    "## Why 50-70% Accuracy?\n",
    "You might be wondering why you can't get an accuracy any higher. First things first, 50% isn't bad for a simple CNN.  Pure guessing would get you 10% accuracy. However, you might notice people are getting scores [well above 70%](http://rodrigob.github.io/are_we_there_yet/build/classification_datasets_results.html#43494641522d3130).  That's because we haven't taught you all there is to know about neural networks. We still need to cover a few more techniques.\n",
    "## Submitting This Project\n",
    "When submitting this project, make sure to run all the cells before saving the notebook.  Save the notebook file as \"dlnd_image_classification.ipynb\" and save it as a HTML file under \"File\" -> \"Download as\".  Include the \"helper.py\" and \"problem_unittests.py\" files in your submission."
   ]
  }
 ],
 "metadata": {
  "kernelspec": {
   "display_name": "Python 3",
   "language": "python",
   "name": "python3"
  },
  "language_info": {
   "codemirror_mode": {
    "name": "ipython",
    "version": 3
   },
   "file_extension": ".py",
   "mimetype": "text/x-python",
   "name": "python",
   "nbconvert_exporter": "python",
   "pygments_lexer": "ipython3",
   "version": "3.5.2"
  },
  "widgets": {
   "state": {},
   "version": "1.1.2"
  }
 },
 "nbformat": 4,
 "nbformat_minor": 0
}
